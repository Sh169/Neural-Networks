{
 "cells": [
  {
   "cell_type": "code",
   "execution_count": 1,
   "metadata": {},
   "outputs": [],
   "source": [
    "#Import required libraries\n",
    "import struct as st \n",
    "import numpy as np\n",
    "import keras\n",
    "import matplotlib.pyplot as plt\n",
    "import tensorflow.keras as kr\n",
    "from tensorflow.keras.models import Sequential\n",
    "from tensorflow.keras.layers import Conv2D\n",
    "from tensorflow.keras.layers import MaxPooling2D\n",
    "from tensorflow.keras.layers import Flatten\n",
    "from tensorflow.keras.layers import Dense\n",
    "from tensorflow.keras.layers import Dropout"
   ]
  },
  {
   "cell_type": "code",
   "execution_count": 2,
   "metadata": {},
   "outputs": [
    {
     "name": "stdout",
     "output_type": "stream",
     "text": [
      "<class 'numpy.ndarray'>\n",
      "Train set of images are 3D array (60000, 28, 28)\n",
      "Test set of images are 3D array (10000, 28, 28)\n"
     ]
    }
   ],
   "source": [
    "#Import dataset\n",
    "from keras.datasets import mnist\n",
    "(x_train, y_train), (x_test, y_test) = mnist.load_data()\n",
    "\n",
    "print(type(x_train))\n",
    "print('Train set of images are 3D array',x_train.shape)# 60000 of images in train set,sized by 28x28 pixals\n",
    "print('Test set of images are 3D array',x_test.shape)# 10000 of images in test set"
   ]
  },
  {
   "cell_type": "code",
   "execution_count": 3,
   "metadata": {},
   "outputs": [],
   "source": [
    "# Reshape to the expected CNN format \n",
    "x_train = x_train.reshape(x_train.shape[0], 28, 28, 1).astype('float32')\n",
    "x_test = x_test.reshape(x_test.shape[0], 28, 28, 1).astype('float32')\n"
   ]
  },
  {
   "cell_type": "code",
   "execution_count": 4,
   "metadata": {},
   "outputs": [
    {
     "name": "stdout",
     "output_type": "stream",
     "text": [
      "(28, 28, 1)\n"
     ]
    }
   ],
   "source": [
    "# scaling images to make gradient descent process faster\n",
    "x_train=x_train/255\n",
    "x_test=x_test/255\n",
    "\n",
    "print(x_train[1].shape)"
   ]
  },
  {
   "cell_type": "code",
   "execution_count": 5,
   "metadata": {},
   "outputs": [],
   "source": [
    "# encoding categorical variables\n",
    "y_train = kr.utils.to_categorical(y_train, 10)\n",
    "y_test = kr.utils.to_categorical(y_test, 10)"
   ]
  },
  {
   "cell_type": "code",
   "execution_count": 6,
   "metadata": {},
   "outputs": [
    {
     "name": "stdout",
     "output_type": "stream",
     "text": [
      " 0, 1, 2, 3, 4, 5, 6, 7, 8, 9\n",
      "[0. 0. 0. 0. 0. 1. 0. 0. 0. 0.]\n"
     ]
    },
    {
     "data": {
      "text/plain": [
       "<matplotlib.image.AxesImage at 0x14ca72c1ca0>"
      ]
     },
     "execution_count": 6,
     "metadata": {},
     "output_type": "execute_result"
    },
    {
     "data": {
      "image/png": "[encoded data removed]",
      "text/plain": [
       "<Figure size 432x288 with 1 Axes>"
      ]
     },
     "metadata": {
      "needs_background": "light"
     },
     "output_type": "display_data"
    }
   ],
   "source": [
    "print(' 0, 1, 2, 3, 4, 5, 6, 7, 8, 9')\n",
    "print(y_test[132])\n",
    "plt.imshow(x_test[132].reshape(28, 28), cmap='gray')"
   ]
  },
  {
   "cell_type": "code",
   "execution_count": 8,
   "metadata": {},
   "outputs": [],
   "source": [
    "#Initialising the CNN\n",
    "model = Sequential()\n",
    "#  Implements the forward propagation for the model:\n",
    "#   CONV2D -> RELU -> MAXPOOL -> CONV2D -> RELU -> MAXPOOL -> FLATTEN -> FULLYCONNECTED\n",
    "\n",
    "# Convolution layer\n",
    "model.add(Conv2D(32,(3,3),strides=(1, 1),input_shape = (x_train.shape[1],x_train.shape[2],1),activation = 'relu',padding='same'))\n",
    "\n",
    "# Pooling as reducing feature map\n",
    "model.add(MaxPooling2D(pool_size=(2,2),strides=(2,2)))\n",
    "\n",
    "# Apply 64 filters sized of (3x3) on 2nd convolution layer\n",
    "model.add(Conv2D(64,kernel_size=(3,3),strides=(1, 1),activation = 'relu',padding='same')) \n",
    "          \n",
    "model.add(MaxPooling2D(pool_size=(2,2),strides=(2,2)))\n",
    "\n",
    "model.add(Dropout(0.5))\n",
    "\n",
    "# Flattening\n",
    "model.add(Flatten())\n",
    "\n",
    "# Full connection\n",
    "model.add(Dense(model.output_shape[1],activation = 'relu'))\n",
    "model.add(Dense(10,activation = 'softmax'))"
   ]
  },
  {
   "cell_type": "code",
   "execution_count": 9,
   "metadata": {},
   "outputs": [],
   "source": [
    "# Compiling of the Model\n",
    "model.compile( optimizer='adam',loss='categorical_crossentropy', metrics=['accuracy'])"
   ]
  },
  {
   "cell_type": "code",
   "execution_count": 17,
   "metadata": {},
   "outputs": [
    {
     "name": "stdout",
     "output_type": "stream",
     "text": [
      "Model: \"sequential\"\n",
      "_________________________________________________________________\n",
      "Layer (type)                 Output Shape              Param #   \n",
      "=================================================================\n",
      "conv2d (Conv2D)              (None, 28, 28, 32)        320       \n",
      "_________________________________________________________________\n",
      "max_pooling2d (MaxPooling2D) (None, 14, 14, 32)        0         \n",
      "_________________________________________________________________\n",
      "conv2d_1 (Conv2D)            (None, 14, 14, 64)        18496     \n",
      "_________________________________________________________________\n",
      "max_pooling2d_1 (MaxPooling2 (None, 7, 7, 64)          0         \n",
      "_________________________________________________________________\n",
      "dropout (Dropout)            (None, 7, 7, 64)          0         \n",
      "_________________________________________________________________\n",
      "flatten (Flatten)            (None, 3136)              0         \n",
      "_________________________________________________________________\n",
      "dense (Dense)                (None, 3136)              9837632   \n",
      "_________________________________________________________________\n",
      "dense_1 (Dense)              (None, 10)                31370     \n",
      "=================================================================\n",
      "Total params: 9,887,818\n",
      "Trainable params: 9,887,818\n",
      "Non-trainable params: 0\n",
      "_________________________________________________________________\n"
     ]
    }
   ],
   "source": [
    "model.summary()"
   ]
  },
  {
   "cell_type": "code",
   "execution_count": 18,
   "metadata": {},
   "outputs": [
    {
     "name": "stdout",
     "output_type": "stream",
     "text": [
      "Epoch 1/10\n",
      "300/300 [==============================] - 145s 482ms/step - loss: 0.0133 - accuracy: 0.9953 - val_loss: 0.0238 - val_accuracy: 0.9929\n",
      "Epoch 2/10\n",
      "300/300 [==============================] - 146s 487ms/step - loss: 0.0139 - accuracy: 0.9952 - val_loss: 0.0259 - val_accuracy: 0.9926\n",
      "Epoch 3/10\n",
      "300/300 [==============================] - 145s 483ms/step - loss: 0.0127 - accuracy: 0.9958 - val_loss: 0.0218 - val_accuracy: 0.9929\n",
      "Epoch 4/10\n",
      "300/300 [==============================] - 150s 499ms/step - loss: 0.0098 - accuracy: 0.9966 - val_loss: 0.0250 - val_accuracy: 0.9930\n",
      "Epoch 5/10\n",
      "300/300 [==============================] - 144s 479ms/step - loss: 0.0119 - accuracy: 0.9958 - val_loss: 0.0211 - val_accuracy: 0.9931\n",
      "Epoch 6/10\n",
      "300/300 [==============================] - 151s 502ms/step - loss: 0.0091 - accuracy: 0.9969 - val_loss: 0.0291 - val_accuracy: 0.9919\n",
      "Epoch 7/10\n",
      "300/300 [==============================] - 154s 513ms/step - loss: 0.0083 - accuracy: 0.9972 - val_loss: 0.0215 - val_accuracy: 0.9930\n",
      "Epoch 8/10\n",
      "300/300 [==============================] - 142s 474ms/step - loss: 0.0093 - accuracy: 0.9969 - val_loss: 0.0223 - val_accuracy: 0.9943\n",
      "Epoch 9/10\n",
      "300/300 [==============================] - 141s 471ms/step - loss: 0.0089 - accuracy: 0.9968 - val_loss: 0.0251 - val_accuracy: 0.9938\n",
      "Epoch 10/10\n",
      "300/300 [==============================] - 129s 430ms/step - loss: 0.0078 - accuracy: 0.9974 - val_loss: 0.0258 - val_accuracy: 0.9931\n"
     ]
    }
   ],
   "source": [
    "# Train the model\n",
    "history=model.fit(x_train, y_train, validation_data=(x_test, y_test), epochs=10, batch_size=200)"
   ]
  },
  {
   "cell_type": "code",
   "execution_count": 19,
   "metadata": {},
   "outputs": [
    {
     "name": "stdout",
     "output_type": "stream",
     "text": [
      "Metrics(Test loss & Test Accuracy): \n",
      "[0.025847800076007843, 0.9930999875068665]\n"
     ]
    }
   ],
   "source": [
    "# Evaluation of the model\n",
    "metrics = model.evaluate(x_test, y_test, verbose=0)\n",
    "print(\"Metrics(Test loss & Test Accuracy): \")\n",
    "print(metrics)"
   ]
  },
  {
   "cell_type": "code",
   "execution_count": 12,
   "metadata": {},
   "outputs": [],
   "source": [
    "# save everything to h5 file format\n",
    "model.save('./model/model.h5')"
   ]
  },
  {
   "cell_type": "code",
   "execution_count": 13,
   "metadata": {},
   "outputs": [],
   "source": [
    "from tensorflow.keras.models import load_model"
   ]
  },
  {
   "cell_type": "code",
   "execution_count": 14,
   "metadata": {},
   "outputs": [],
   "source": [
    "# load already compiled model\n",
    "load_model = load_model('./model/model.h5')"
   ]
  },
  {
   "cell_type": "code",
   "execution_count": 15,
   "metadata": {},
   "outputs": [
    {
     "name": "stderr",
     "output_type": "stream",
     "text": [
      "C:\\Users\\shwetha\\anaconda3\\lib\\site-packages\\tensorflow\\python\\keras\\engine\\sequential.py:450: UserWarning: `model.predict_classes()` is deprecated and will be removed after 2021-01-01. Please use instead:* `np.argmax(model.predict(x), axis=-1)`,   if your model does multi-class classification   (e.g. if it uses a `softmax` last-layer activation).* `(model.predict(x) > 0.5).astype(\"int32\")`,   if your model does binary classification   (e.g. if it uses a `sigmoid` last-layer activation).\n",
      "  warnings.warn('`model.predict_classes()` is deprecated and '\n"
     ]
    },
    {
     "name": "stdout",
     "output_type": "stream",
     "text": [
      "---------------  0, 1, 2, 3, 4, 5, 6, 7, 8, 9\n",
      "Actual label :  [0. 0. 0. 0. 0. 0. 1. 0. 0. 0.]\n",
      "Predicted class :  [6]\n"
     ]
    },
    {
     "data": {
      "image/png": "[encoded data removed]",
      "text/plain": [
       "<Figure size 432x288 with 1 Axes>"
      ]
     },
     "metadata": {
      "needs_background": "light"
     },
     "output_type": "display_data"
    }
   ],
   "source": [
    "predict_img = load_model.predict_classes(x_test[50].reshape(-1,28,28,1))\n",
    "\n",
    "plt.imshow(x_test[50].reshape(28, 28), cmap='gray')\n",
    "print('---------------  0, 1, 2, 3, 4, 5, 6, 7, 8, 9',)\n",
    "print('Actual label : ', y_test[50])\n",
    "print('Predicted class : ',predict_img)"
   ]
  },
  {
   "cell_type": "code",
   "execution_count": null,
   "metadata": {},
   "outputs": [],
   "source": []
  }
 ],
 "metadata": {
  "kernelspec": {
   "display_name": "Python 3",
   "language": "python",
   "name": "python3"
  },
  "language_info": {
   "codemirror_mode": {
    "name": "ipython",
    "version": 3
   },
   "file_extension": ".py",
   "mimetype": "text/x-python",
   "name": "python",
   "nbconvert_exporter": "python",
   "pygments_lexer": "ipython3",
   "version": "3.8.3"
  }
 },
 "nbformat": 4,
 "nbformat_minor": 4
}
